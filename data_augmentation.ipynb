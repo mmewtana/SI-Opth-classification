{
 "cells": [
  {
   "cell_type": "markdown",
   "metadata": {},
   "source": [
    "# **Import important library**"
   ]
  },
  {
   "cell_type": "code",
   "execution_count": null,
   "metadata": {},
   "outputs": [],
   "source": [
    "!pip install -U albumentations\n",
    "!pip install opencv-python"
   ]
  },
  {
   "cell_type": "code",
   "execution_count": null,
   "metadata": {},
   "outputs": [],
   "source": [
    "import albumentations as A\n",
    "import cv2 #for load image\n",
    "import matplotlib.pyplot as plt  #for plot image\n",
    "import numpy as np\n",
    "import os\n",
    "#from numpy import asarray : to fix array problem before"
   ]
  },
  {
   "cell_type": "code",
   "execution_count": null,
   "metadata": {},
   "outputs": [],
   "source": [
    "#dataset folder path\n",
    "input_path = \"Add the dataset path here\""
   ]
  },
  {
   "cell_type": "code",
   "execution_count": null,
   "metadata": {},
   "outputs": [],
   "source": [
    "#Augmentation image folder path\n",
    "#Don't forget to change the output path*************\n",
    "output_path = \"Add the Augmentation folder to save here\""
   ]
  },
  {
   "cell_type": "markdown",
   "metadata": {},
   "source": [
    "# **Image Augmentation_cv2**\n",
    "1. Blur\n",
    "2. Super blur\n",
    "3. Horizontal Flip\n",
    "4. Rotate\n",
    "5. brightness\n",
    "6. contrast\n",
    "7. hue\n",
    "8. Mixed (hue, contrast, brightness, blur) : hue=0.08,contrast=(0.8,2.4),brightness=0.3,p=1"
   ]
  },
  {
   "cell_type": "code",
   "execution_count": null,
   "metadata": {},
   "outputs": [],
   "source": [
    "os.chdir(input_path)\n",
    "for img in os.listdir(input_path):\n",
    "  #numpydata=asarray(img) : to fix array problem \n",
    "  print(img)\n",
    "\n",
    "  #Read images from the disk\n",
    "  image = cv2.imread(img)\n",
    "  #image = cv2.cvtColor(image, cv2.COLOR_BGR2RGB)\n",
    "\n",
    "  #Define an augmentation pipeline\n",
    "  transform = A.Compose([\n",
    "    A.Blur(blur_limit=(7, 7), p=1),\n",
    "    A.Blur(blur_limit=(15, 15), p=1),\n",
    "    A.HorizontalFlip(p=1),\n",
    "    A.Rotate(limit=(-90, 90),p=1),\n",
    "    A.RandomBrightnessContrast(brightness_limit=(-0.25, -0.15),p=1),\n",
    "    A.RandomBrightnessContrast(contrast_limit=(-0.25, -0.15),p=1),\n",
    "    A.ColorJitter(hue=0.08,contrast=(0.8,2.4),brightness=0.3,p=1),\n",
    "    A.MotionBlur(blur_limit=7, allow_shifted=True, always_apply=None, p=1)\n",
    "  ])\n",
    "\n",
    "  #transform the image\n",
    "  transformed = transform(image=image)\n",
    "  transformed_image = transformed[\"image\"]\n",
    "\n",
    "  cv2.imwrite(f\"{output_path}/{img}.jpg\", transformed_image) #save transformed_image"
   ]
  }
 ],
 "metadata": {
  "kernelspec": {
   "display_name": "Python 3",
   "language": "python",
   "name": "python3"
  },
  "language_info": {
   "codemirror_mode": {
    "name": "ipython",
    "version": 3
   },
   "file_extension": ".py",
   "mimetype": "text/x-python",
   "name": "python",
   "nbconvert_exporter": "python",
   "pygments_lexer": "ipython3",
   "version": "3.12.5"
  }
 },
 "nbformat": 4,
 "nbformat_minor": 2
}
